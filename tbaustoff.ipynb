{
 "cells": [
  {
   "cell_type": "code",
   "execution_count": 1,
   "metadata": {},
   "outputs": [],
   "source": [
    "# Importing packages\n",
    "\n",
    "import pandas as pd\n",
    "import numpy  as np\n",
    "from sklearn.cluster import KMeans\n",
    "import seaborn as sns\n",
    "import datetime \n",
    "import chardet\n"
   ]
  },
  {
   "cell_type": "markdown",
   "metadata": {},
   "source": [
    "# tBaustoff Dataset"
   ]
  },
  {
   "cell_type": "markdown",
   "metadata": {},
   "source": [
    "The tBaustoff dataset provides material mapping information with 10 columns. It connects to the ÖKOBAUDAT dataset through process UUIDs and contains end-of-life scenario information for various materials.\n",
    "\n",
    "End-of-Life Scenarios: Different materials have different potential pathways\n",
    "\n",
    "- Reuse: Direct application in new construction (highest value retention)\n",
    "- Recycling: Processing into new material (partial value retention)\n",
    "- Downcycling: Processing into lower-value applications\n",
    "- Disposal: Landfilling or incineration (lowest circularity value)"
   ]
  },
  {
   "cell_type": "markdown",
   "metadata": {},
   "source": [
    "## Data Wrangling"
   ]
  },
  {
   "cell_type": "markdown",
   "metadata": {},
   "source": [
    "### Data Extraction"
   ]
  },
  {
   "cell_type": "code",
   "execution_count": 2,
   "metadata": {},
   "outputs": [
    {
     "name": "stdout",
     "output_type": "stream",
     "text": [
      "{'encoding': 'ISO-8859-1', 'confidence': 0.7295400999999999, 'language': ''}\n"
     ]
    }
   ],
   "source": [
    "# detect files encoding\n",
    "with open(\"/Users/pablosoriano/Documents/Data Science/bbsr-challenge/csv/OBD_2024_I.csv\", \"rb\") as f:\n",
    "    result = chardet.detect(f.read(100000))  # Read first 100,000 bytes\n",
    "    print(result)\n",
    "# Importing data from CSV and converting to dataframe\n",
    "obd_df = pd.read_csv(\"/Users/pablosoriano/Documents/Data Science/bbsr-challenge/csv/obd_merged.csv\", delimiter=\";\", encoding = \"utf-8-sig\", low_memory=False)\n",
    "tbau_df = pd.read_csv(\"/Users/pablosoriano/Documents/Data Science/bbsr-challenge/csv/tBaustoff_with_OBD_mapping.csv\", delimiter=\",\", encoding = result[\"encoding\"], low_memory=False)\n"
   ]
  },
  {
   "cell_type": "code",
   "execution_count": 3,
   "metadata": {},
   "outputs": [
    {
     "name": "stdout",
     "output_type": "stream",
     "text": [
      "<class 'pandas.core.frame.DataFrame'>\n",
      "RangeIndex: 815 entries, 0 to 814\n",
      "Data columns (total 11 columns):\n",
      " #   Column                       Non-Null Count  Dtype  \n",
      "---  ------                       --------------  -----  \n",
      " 0   oekobaudatProcessUuid        728 non-null    object \n",
      " 1   oekobaudatDatastockUuid      731 non-null    object \n",
      " 2   oekobaudatDatastockName      731 non-null    object \n",
      " 3   productId                    815 non-null    int64  \n",
      " 4   tBaustoffVersion             815 non-null    object \n",
      " 5   productName                  815 non-null    object \n",
      " 6   eolCategoryId                815 non-null    int64  \n",
      " 7   eolCategoryName              815 non-null    object \n",
      " 8   eolScenarioUnbuiltReal       815 non-null    object \n",
      " 9   eolScenarioUnbuiltPotential  815 non-null    object \n",
      " 10  technologyFactor             815 non-null    float64\n",
      "dtypes: float64(1), int64(2), object(8)\n",
      "memory usage: 70.2+ KB\n"
     ]
    }
   ],
   "source": [
    "tbau_df.info()"
   ]
  },
  {
   "cell_type": "code",
   "execution_count": 6,
   "metadata": {},
   "outputs": [
    {
     "data": {
      "text/html": [
       "<div>\n",
       "<style scoped>\n",
       "    .dataframe tbody tr th:only-of-type {\n",
       "        vertical-align: middle;\n",
       "    }\n",
       "\n",
       "    .dataframe tbody tr th {\n",
       "        vertical-align: top;\n",
       "    }\n",
       "\n",
       "    .dataframe thead th {\n",
       "        text-align: right;\n",
       "    }\n",
       "</style>\n",
       "<table border=\"1\" class=\"dataframe\">\n",
       "  <thead>\n",
       "    <tr style=\"text-align: right;\">\n",
       "      <th></th>\n",
       "      <th>oekobaudatProcessUuid</th>\n",
       "      <th>oekobaudatDatastockUuid</th>\n",
       "      <th>oekobaudatDatastockName</th>\n",
       "      <th>productId</th>\n",
       "      <th>tBaustoffVersion</th>\n",
       "      <th>productName</th>\n",
       "      <th>eolCategoryId</th>\n",
       "      <th>eolCategoryName</th>\n",
       "      <th>eolScenarioUnbuiltReal</th>\n",
       "      <th>eolScenarioUnbuiltPotential</th>\n",
       "      <th>technologyFactor</th>\n",
       "    </tr>\n",
       "  </thead>\n",
       "  <tbody>\n",
       "    <tr>\n",
       "      <th>0</th>\n",
       "      <td>3b1f0c75-07a4-4182-b310-5529fc5b54a6</td>\n",
       "      <td>22885a6e-1765-4ade-a35e-ae668bd07256</td>\n",
       "      <td>OBD_2023_I</td>\n",
       "      <td>1</td>\n",
       "      <td>2024-Q4</td>\n",
       "      <td>Acetyliertes Holz</td>\n",
       "      <td>1</td>\n",
       "      <td>Holz - acetyliert</td>\n",
       "      <td>EV+</td>\n",
       "      <td>EV+</td>\n",
       "      <td>0.00</td>\n",
       "    </tr>\n",
       "    <tr>\n",
       "      <th>1</th>\n",
       "      <td>0dec19c7-53db-4cb9-bbba-4d44d3da62a9</td>\n",
       "      <td>ca70a7e6-0ea4-4e90-a947-d44585783626</td>\n",
       "      <td>OBD_2024_I</td>\n",
       "      <td>1</td>\n",
       "      <td>2024-Q4</td>\n",
       "      <td>Acetyliertes Holz</td>\n",
       "      <td>1</td>\n",
       "      <td>Holz - acetyliert</td>\n",
       "      <td>EV+</td>\n",
       "      <td>EV+</td>\n",
       "      <td>0.00</td>\n",
       "    </tr>\n",
       "    <tr>\n",
       "      <th>2</th>\n",
       "      <td>bd6d6d89-b76d-4002-a217-afffbb8aa308</td>\n",
       "      <td>448d1096-2017-4901-a560-f652a83c737e</td>\n",
       "      <td>OBD_2020_II</td>\n",
       "      <td>2</td>\n",
       "      <td>2024-Q4</td>\n",
       "      <td>Aluminium Profil</td>\n",
       "      <td>2</td>\n",
       "      <td>Alu unbeschichtet od. eloxiert (Sz. Knetleg zu...</td>\n",
       "      <td>RC+</td>\n",
       "      <td>CL+</td>\n",
       "      <td>0.75</td>\n",
       "    </tr>\n",
       "    <tr>\n",
       "      <th>3</th>\n",
       "      <td>fdc99ab8-d843-44ec-a66c-92367d244321</td>\n",
       "      <td>22885a6e-1765-4ade-a35e-ae668bd07256</td>\n",
       "      <td>OBD_2023_I</td>\n",
       "      <td>2</td>\n",
       "      <td>2024-Q4</td>\n",
       "      <td>Aluminium Profil</td>\n",
       "      <td>2</td>\n",
       "      <td>Alu unbeschichtet od. eloxiert (Sz. Knetleg zu...</td>\n",
       "      <td>RC+</td>\n",
       "      <td>CL+</td>\n",
       "      <td>0.75</td>\n",
       "    </tr>\n",
       "    <tr>\n",
       "      <th>4</th>\n",
       "      <td>3feca796-791b-46d3-8160-95ef243ffb9d</td>\n",
       "      <td>ca70a7e6-0ea4-4e90-a947-d44585783626</td>\n",
       "      <td>OBD_2024_I</td>\n",
       "      <td>2</td>\n",
       "      <td>2024-Q4</td>\n",
       "      <td>Aluminium Profil</td>\n",
       "      <td>2</td>\n",
       "      <td>Alu unbeschichtet od. eloxiert (Sz. Knetleg zu...</td>\n",
       "      <td>RC+</td>\n",
       "      <td>CL+</td>\n",
       "      <td>0.75</td>\n",
       "    </tr>\n",
       "  </tbody>\n",
       "</table>\n",
       "</div>"
      ],
      "text/plain": [
       "                  oekobaudatProcessUuid               oekobaudatDatastockUuid  \\\n",
       "0  3b1f0c75-07a4-4182-b310-5529fc5b54a6  22885a6e-1765-4ade-a35e-ae668bd07256   \n",
       "1  0dec19c7-53db-4cb9-bbba-4d44d3da62a9  ca70a7e6-0ea4-4e90-a947-d44585783626   \n",
       "2  bd6d6d89-b76d-4002-a217-afffbb8aa308  448d1096-2017-4901-a560-f652a83c737e   \n",
       "3  fdc99ab8-d843-44ec-a66c-92367d244321  22885a6e-1765-4ade-a35e-ae668bd07256   \n",
       "4  3feca796-791b-46d3-8160-95ef243ffb9d  ca70a7e6-0ea4-4e90-a947-d44585783626   \n",
       "\n",
       "  oekobaudatDatastockName  productId tBaustoffVersion         productName  \\\n",
       "0              OBD_2023_I          1          2024-Q4  Acetyliertes Holz    \n",
       "1              OBD_2024_I          1          2024-Q4  Acetyliertes Holz    \n",
       "2             OBD_2020_II          2          2024-Q4    Aluminium Profil   \n",
       "3              OBD_2023_I          2          2024-Q4    Aluminium Profil   \n",
       "4              OBD_2024_I          2          2024-Q4    Aluminium Profil   \n",
       "\n",
       "   eolCategoryId                                    eolCategoryName  \\\n",
       "0              1                                  Holz - acetyliert   \n",
       "1              1                                  Holz - acetyliert   \n",
       "2              2  Alu unbeschichtet od. eloxiert (Sz. Knetleg zu...   \n",
       "3              2  Alu unbeschichtet od. eloxiert (Sz. Knetleg zu...   \n",
       "4              2  Alu unbeschichtet od. eloxiert (Sz. Knetleg zu...   \n",
       "\n",
       "  eolScenarioUnbuiltReal eolScenarioUnbuiltPotential  technologyFactor  \n",
       "0                    EV+                         EV+              0.00  \n",
       "1                    EV+                         EV+              0.00  \n",
       "2                    RC+                         CL+              0.75  \n",
       "3                    RC+                         CL+              0.75  \n",
       "4                    RC+                         CL+              0.75  "
      ]
     },
     "execution_count": 6,
     "metadata": {},
     "output_type": "execute_result"
    }
   ],
   "source": [
    "tbau_df.head()"
   ]
  },
  {
   "cell_type": "markdown",
   "metadata": {},
   "source": [
    "### Data Cleaning"
   ]
  },
  {
   "cell_type": "code",
   "execution_count": 4,
   "metadata": {},
   "outputs": [],
   "source": [
    "# identifying the columns with missing values\n",
    "missing_values = tbau_df.isnull().sum()"
   ]
  },
  {
   "cell_type": "code",
   "execution_count": 5,
   "metadata": {},
   "outputs": [
    {
     "data": {
      "text/plain": [
       "oekobaudatProcessUuid          87\n",
       "oekobaudatDatastockUuid        84\n",
       "oekobaudatDatastockName        84\n",
       "productId                       0\n",
       "tBaustoffVersion                0\n",
       "productName                     0\n",
       "eolCategoryId                   0\n",
       "eolCategoryName                 0\n",
       "eolScenarioUnbuiltReal          0\n",
       "eolScenarioUnbuiltPotential     0\n",
       "technologyFactor                0\n",
       "dtype: int64"
      ]
     },
     "execution_count": 5,
     "metadata": {},
     "output_type": "execute_result"
    }
   ],
   "source": [
    "missing_values"
   ]
  },
  {
   "cell_type": "code",
   "execution_count": null,
   "metadata": {},
   "outputs": [
    {
     "data": {
      "text/plain": [
       "728"
      ]
     },
     "execution_count": 7,
     "metadata": {},
     "output_type": "execute_result"
    }
   ],
   "source": [
    "# unique values in the 'OBD' column\n",
    "tbau_df[\"oekobaudatProcessUuid\"].nunique()"
   ]
  },
  {
   "cell_type": "code",
   "execution_count": 8,
   "metadata": {},
   "outputs": [
    {
     "data": {
      "text/plain": [
       "815"
      ]
     },
     "execution_count": 8,
     "metadata": {},
     "output_type": "execute_result"
    }
   ],
   "source": [
    "len(tbau_df[\"oekobaudatProcessUuid\"])\n"
   ]
  },
  {
   "cell_type": "markdown",
   "metadata": {},
   "source": [
    "815 - 728  = 87 \n",
    "Each uuid is unique (not like in obd). The remaining are missing values\n",
    "Note that data entries in `ÖKOBAUDAT` are referred to as *Processes*, not materials, as life cycle assessment is conducted at the process level. Since we are talking of *ProcessUuid* in connection with `ÖKOBAUDAT`, it means that the data is related to a speficic material combined with assessments through its entire life cycle."
   ]
  },
  {
   "cell_type": "markdown",
   "metadata": {},
   "source": []
  },
  {
   "cell_type": "markdown",
   "metadata": {},
   "source": []
  }
 ],
 "metadata": {
  "kernelspec": {
   "display_name": "codeacademy",
   "language": "python",
   "name": "python3"
  },
  "language_info": {
   "codemirror_mode": {
    "name": "ipython",
    "version": 3
   },
   "file_extension": ".py",
   "mimetype": "text/x-python",
   "name": "python",
   "nbconvert_exporter": "python",
   "pygments_lexer": "ipython3",
   "version": "3.12.7"
  }
 },
 "nbformat": 4,
 "nbformat_minor": 2
}

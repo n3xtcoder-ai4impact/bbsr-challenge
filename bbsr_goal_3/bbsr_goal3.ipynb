{
 "cells": [
  {
   "cell_type": "code",
   "execution_count": 1,
   "metadata": {},
   "outputs": [],
   "source": [
    "# Importing packages\n",
    "\n",
    "import pandas as pd\n",
    "import numpy  as np\n",
    "import seaborn as sns\n",
    "import datetime \n",
    "import chardet\n"
   ]
  },
  {
   "cell_type": "code",
   "execution_count": 3,
   "metadata": {},
   "outputs": [
    {
     "name": "stdout",
     "output_type": "stream",
     "text": [
      "{'encoding': 'ISO-8859-1', 'confidence': 0.7295400999999999, 'language': ''}\n"
     ]
    }
   ],
   "source": [
    "# detect files encoding\n",
    "with open(\"OBD_2024_I.csv\", \"rb\") as f:\n",
    "    result = chardet.detect(f.read(100000))  # Read first 100,000 bytes\n",
    "    print(result)"
   ]
  },
  {
   "cell_type": "code",
   "execution_count": null,
   "metadata": {},
   "outputs": [],
   "source": [
    "# Importing data\n",
    "oko_2024_df = pd.read_csv(\"OBD_2024_I.csv\", delimiter=\";\", encoding = result[\"encoding\"], low_memory=False)\n",
    "oko_2023_df= pd.read_csv(\"OBD_2023_I.csv\", delimiter=\";\", encoding = result[\"encoding\"], low_memory=False)\n",
    "oko_2020_df = pd.read_csv(\"OBD_2020_II.csv\", delimiter=\";\", encoding = result[\"encoding\"], low_memory=False)\n",
    "tbau_df = pd.read_csv(\"tBaustoff_with_OBD_mapping.csv\", delimiter=\";\", encoding = result[\"encoding\"], low_memory=False)\n"
   ]
  },
  {
   "cell_type": "code",
   "execution_count": null,
   "metadata": {},
   "outputs": [],
   "source": []
  }
 ],
 "metadata": {
  "kernelspec": {
   "display_name": "codeacademy",
   "language": "python",
   "name": "python3"
  },
  "language_info": {
   "codemirror_mode": {
    "name": "ipython",
    "version": 3
   },
   "file_extension": ".py",
   "mimetype": "text/x-python",
   "name": "python",
   "nbconvert_exporter": "python",
   "pygments_lexer": "ipython3",
   "version": "3.12.7"
  }
 },
 "nbformat": 4,
 "nbformat_minor": 2
}

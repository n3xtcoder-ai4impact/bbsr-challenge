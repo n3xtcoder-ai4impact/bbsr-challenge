{
 "cells": [
  {
   "cell_type": "code",
   "execution_count": 1,
   "metadata": {},
   "outputs": [],
   "source": [
    "# Importing packages\n",
    "\n",
    "import pandas as pd\n",
    "import numpy  as np\n",
    "import seaborn as sns\n",
    "import datetime \n",
    "import chardet\n"
   ]
  },
  {
   "cell_type": "markdown",
   "metadata": {},
   "source": [
    "# Goal 1: Automating Pollutant Assessment \n",
    "Current Situation: \n",
    "- ​To evaluate a material's reusability, users must manually input information about \n",
    "pollutants \n",
    "- ​These pollutants (adhesives, paints, fire retardants, etc.) affect how easily materials can \n",
    "be separated and reused \n",
    "- ​The manual nature of this process introduces inconsistency and inefficiency \n",
    "\n"
   ]
  },
  {
   "cell_type": "markdown",
   "metadata": {},
   "source": [
    "## Objective: Develop a system that automatically suggests strong default pollutant values based on the materials being assessed. \n",
    "This system should: \n",
    "- ​Predict likely pollutants based on material combinations \n",
    "- Provide appropriate pollutant classifications \n",
    "- Reduce manual input while improving assessment accuracy "
   ]
  },
  {
   "cell_type": "markdown",
   "metadata": {},
   "source": [
    "## Methodology and approach\n",
    "- Machine learning models to predict pollutants based on material combinations \n",
    "- Pattern recognition systems that identify common construction methods and associated \n",
    "pollutants \n",
    "- Rule-based systems derived from expert knowledge \n",
    "- ​Default value frameworks with adjustment mechanisms based on material properties "
   ]
  },
  {
   "cell_type": "markdown",
   "metadata": {},
   "source": [
    "## Guiding Questions\n",
    "\n",
    "1. How can we identify which materials are commonly used together in building components?\n",
    "2. What properties in the datasets can help us determine the type of connections used between materials?\n",
    "3. How might different connection types affect the end-of-life scenarios in the tBaustoff dataset?\n",
    "4. Can we classify connections based on their environmental impact using the lifecycle assessment data?\n",
    "5. What metrics could we use to define the \"disturbance potential\" of different connection types?\n",
    "6. How can we develop a recommendation system for material connections that optimizes for circularity?"
   ]
  },
  {
   "cell_type": "markdown",
   "metadata": {},
   "source": [
    "# Data Wrangling"
   ]
  },
  {
   "cell_type": "markdown",
   "metadata": {},
   "source": [
    "## Data Extraction"
   ]
  },
  {
   "cell_type": "code",
   "execution_count": 7,
   "metadata": {},
   "outputs": [
    {
     "name": "stdout",
     "output_type": "stream",
     "text": [
      "{'encoding': 'ISO-8859-1', 'confidence': 0.7295400999999999, 'language': ''}\n"
     ]
    }
   ],
   "source": [
    "# detect files encoding\n",
    "with open(\"/Users/pablosoriano/Documents/Data Science/bbsr-challenge/csv/OBD_2024_I.csv\", \"rb\") as f:\n",
    "    result = chardet.detect(f.read(100000))  # Read first 100,000 bytes\n",
    "    print(result)"
   ]
  },
  {
   "cell_type": "code",
   "execution_count": null,
   "metadata": {},
   "outputs": [],
   "source": [
    "# Importing data from CSV and converting to dataframe\n",
    "oko_2024_df = pd.read_csv(\"/Users/pablosoriano/Documents/Data Science/bbsr-challenge/csv/OBD_2024_I.csv\", delimiter=\";\", encoding = result[\"encoding\"], low_memory=False)\n",
    "oko_2023_df= pd.read_csv(\"/Users/pablosoriano/Documents/Data Science/bbsr-challenge/csv/OBD_2023_I.csv\", delimiter=\";\", encoding = result[\"encoding\"], low_memory=False)\n",
    "oko_2020_df = pd.read_csv(\"/Users/pablosoriano/Documents/Data Science/bbsr-challenge/csv/OBD_2020_II.csv\", delimiter=\";\", encoding = result[\"encoding\"], low_memory=False)\n",
    "tbau_df = pd.read_csv(\"/Users/pablosoriano/Documents/Data Science/bbsr-challenge/csv/tBaustoff_with_OBD_mapping.csv\", delimiter=\";\", encoding = result[\"encoding\"], low_memory=False)\n"
   ]
  },
  {
   "cell_type": "code",
   "execution_count": null,
   "metadata": {},
   "outputs": [
    {
     "name": "stdout",
     "output_type": "stream",
     "text": [
      "{'encoding': 'utf-8', 'confidence': 0.99, 'language': ''}\n"
     ]
    }
   ],
   "source": [
    "# detect files encoding for pollutant_combinations.csv\n",
    "with open(\"/Users/pablosoriano/Documents/Data Science/bbsr-challenge/csv/pollutant_combinations.csv\", \"rb\") as f:\n",
    "    result = chardet.detect(f.read(100000))  # Read first 100,000 bytes\n",
    "    print(result)"
   ]
  },
  {
   "cell_type": "code",
   "execution_count": null,
   "metadata": {},
   "outputs": [],
   "source": [
    "# importing pullutant_combinations.csv\n",
    "pollutants_df = pd.read_csv(\"/Users/pablosoriano/Documents/Data Science/bbsr-challenge/csv/pollutant_combinations.csv\", delimiter=\",\", encoding = result[\"encoding\"], low_memory=False)"
   ]
  },
  {
   "cell_type": "code",
   "execution_count": 13,
   "metadata": {},
   "outputs": [
    {
     "name": "stdout",
     "output_type": "stream",
     "text": [
      "<class 'pandas.core.frame.DataFrame'>\n",
      "RangeIndex: 14985 entries, 0 to 14984\n",
      "Data columns (total 81 columns):\n",
      " #   Column                                         Non-Null Count  Dtype  \n",
      "---  ------                                         --------------  -----  \n",
      " 0   UUID                                           14985 non-null  object \n",
      " 1   Version                                        14985 non-null  object \n",
      " 2   Name (de)                                      12848 non-null  object \n",
      " 3   Name (en)                                      14945 non-null  object \n",
      " 4   Kategorie (original)                           14985 non-null  object \n",
      " 5   Kategorie (en)                                 14985 non-null  object \n",
      " 6   Konformität                                    14985 non-null  object \n",
      " 7   Laenderkennung                                 14982 non-null  object \n",
      " 8   Typ                                            14985 non-null  object \n",
      " 9   Referenzjahr                                   14982 non-null  float64\n",
      " 10  Gueltig bis                                    14982 non-null  float64\n",
      " 11  URL                                            14985 non-null  object \n",
      " 12  Declaration owner                              14985 non-null  object \n",
      " 13  Veroeffentlicht am                             12620 non-null  object \n",
      " 14  Registrierungsnummer                           12605 non-null  object \n",
      " 15  Registrierungsstelle                           14952 non-null  object \n",
      " 16  UUID des Vorgängers                            4256 non-null   object \n",
      " 17  Version des Vorgängers                         1396 non-null   object \n",
      " 18  URL des Vorgängers                             0 non-null      float64\n",
      " 19  Bezugsgroesse                                  14985 non-null  object \n",
      " 20  Bezugseinheit                                  14967 non-null  object \n",
      " 21  Referenzfluss-UUID                             14985 non-null  object \n",
      " 22  Referenzfluss-Name                             14985 non-null  object \n",
      " 23  Schuettdichte (kg/m3)                          264 non-null    object \n",
      " 24  Flaechengewicht (kg/m2)                        8181 non-null   object \n",
      " 25  Rohdichte (kg/m3)                              7372 non-null   object \n",
      " 26  Schichtdicke (m)                               6725 non-null   object \n",
      " 27  Ergiebigkeit (m2)                              193 non-null    object \n",
      " 28  Laengengewicht (kg/m)                          928 non-null    object \n",
      " 29  Stueckgewicht (kg)                             188 non-null    object \n",
      " 30  Umrechungsfaktor auf 1kg                       2297 non-null   object \n",
      " 31  biogener Kohlenstoffgehalt in kg               1781 non-null   object \n",
      " 32  biogener Kohlenstoffgehalt (Verpackung) in kg  2613 non-null   object \n",
      " 33  Modul                                          14985 non-null  object \n",
      " 34  Szenario                                       2890 non-null   object \n",
      " 35  Szenariobeschreibung                           2813 non-null   object \n",
      " 36  GWP                                            30 non-null     object \n",
      " 37  ODP                                            30 non-null     object \n",
      " 38  POCP                                           30 non-null     object \n",
      " 39  AP                                             30 non-null     object \n",
      " 40  EP                                             30 non-null     object \n",
      " 41  ADPE                                           30 non-null     object \n",
      " 42  ADPF                                           30 non-null     object \n",
      " 43  PERE                                           14205 non-null  object \n",
      " 44  PERM                                           14150 non-null  object \n",
      " 45  PERT                                           14204 non-null  object \n",
      " 46  PENRE                                          14205 non-null  object \n",
      " 47  PENRM                                          14166 non-null  object \n",
      " 48  PENRT                                          14204 non-null  object \n",
      " 49  SM                                             14176 non-null  object \n",
      " 50  RSF                                            14178 non-null  object \n",
      " 51  NRSF                                           14178 non-null  object \n",
      " 52  FW                                             14203 non-null  object \n",
      " 53  HWD                                            14201 non-null  object \n",
      " 54  NHWD                                           14202 non-null  object \n",
      " 55  RWD                                            14202 non-null  object \n",
      " 56  CRU                                            14148 non-null  object \n",
      " 57  MFR                                            14176 non-null  object \n",
      " 58  MER                                            14163 non-null  object \n",
      " 59  EEE                                            14172 non-null  object \n",
      " 60  EET                                            14171 non-null  object \n",
      " 61  AP (A2)                                        14175 non-null  object \n",
      " 62  GWPtotal (A2)                                  14175 non-null  object \n",
      " 63  GWPbiogenic (A2)                               14175 non-null  object \n",
      " 64  GWPfossil (A2)                                 14175 non-null  object \n",
      " 65  GWPluluc (A2)                                  13980 non-null  object \n",
      " 66  ETPfw (A2)                                     10354 non-null  object \n",
      " 67  PM (A2)                                        10438 non-null  object \n",
      " 68  EPmarine (A2)                                  14174 non-null  object \n",
      " 69  EPfreshwater (A2)                              14175 non-null  object \n",
      " 70  EPterrestrial (A2)                             14175 non-null  object \n",
      " 71  HTPc (A2)                                      10354 non-null  object \n",
      " 72  HTPnc (A2)                                     10354 non-null  object \n",
      " 73  IRP (A2)                                       10446 non-null  object \n",
      " 74  SOP (A2)                                       9622 non-null   object \n",
      " 75  ODP (A2)                                       14175 non-null  object \n",
      " 76  POCP (A2)                                      14175 non-null  object \n",
      " 77  ADPF (A2)                                      14175 non-null  object \n",
      " 78  ADPE (A2)                                      14175 non-null  object \n",
      " 79  WDP (A2)                                       14175 non-null  object \n",
      " 80  Unnamed: 80                                    0 non-null      float64\n",
      "dtypes: float64(4), object(77)\n",
      "memory usage: 9.3+ MB\n"
     ]
    }
   ],
   "source": [
    "oko_2024_df.info()"
   ]
  },
  {
   "cell_type": "markdown",
   "metadata": {},
   "source": [
    "## Data Cleaning"
   ]
  },
  {
   "cell_type": "code",
   "execution_count": 14,
   "metadata": {},
   "outputs": [
    {
     "data": {
      "text/plain": [
       "UUID                        0\n",
       "Version                     0\n",
       "Name (de)                2137\n",
       "Name (en)                  40\n",
       "Kategorie (original)        0\n",
       "                        ...  \n",
       "POCP (A2)                 810\n",
       "ADPF (A2)                 810\n",
       "ADPE (A2)                 810\n",
       "WDP (A2)                  810\n",
       "Unnamed: 80             14985\n",
       "Length: 81, dtype: int64"
      ]
     },
     "execution_count": 14,
     "metadata": {},
     "output_type": "execute_result"
    }
   ],
   "source": [
    "# Identifying the columns with missing values\n",
    "oko_2024_df.isnull().sum()"
   ]
  },
  {
   "cell_type": "markdown",
   "metadata": {},
   "source": [
    "Unnamed: 80 and URL des Vorgängers are completely empty → should be dropped.\n"
   ]
  },
  {
   "cell_type": "code",
   "execution_count": 17,
   "metadata": {},
   "outputs": [],
   "source": [
    "# dropping the columns with all values as NaN\n",
    "oko_2024_df.drop(columns=[\"Unnamed: 80\", \"URL des Vorgängers\"], inplace=True)"
   ]
  },
  {
   "cell_type": "markdown",
   "metadata": {},
   "source": [
    "## Data Enrichment"
   ]
  },
  {
   "cell_type": "code",
   "execution_count": null,
   "metadata": {},
   "outputs": [],
   "source": []
  },
  {
   "cell_type": "markdown",
   "metadata": {},
   "source": [
    "## Data Validation"
   ]
  },
  {
   "cell_type": "code",
   "execution_count": null,
   "metadata": {},
   "outputs": [],
   "source": []
  },
  {
   "cell_type": "markdown",
   "metadata": {},
   "source": [
    "# EDA"
   ]
  },
  {
   "cell_type": "markdown",
   "metadata": {},
   "source": [
    "# Machine Learning"
   ]
  }
 ],
 "metadata": {
  "kernelspec": {
   "display_name": "codeacademy",
   "language": "python",
   "name": "python3"
  },
  "language_info": {
   "codemirror_mode": {
    "name": "ipython",
    "version": 3
   },
   "file_extension": ".py",
   "mimetype": "text/x-python",
   "name": "python",
   "nbconvert_exporter": "python",
   "pygments_lexer": "ipython3",
   "version": "3.12.7"
  }
 },
 "nbformat": 4,
 "nbformat_minor": 2
}

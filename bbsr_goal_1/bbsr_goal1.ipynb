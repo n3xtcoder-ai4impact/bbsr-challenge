{
 "cells": [
  {
   "cell_type": "code",
   "execution_count": 1,
   "metadata": {},
   "outputs": [],
   "source": [
    "# Importing packages\n",
    "\n",
    "import pandas as pd\n",
    "import numpy  as np\n",
    "import seaborn as sns\n",
    "import datetime \n",
    "import chardet\n"
   ]
  },
  {
   "cell_type": "markdown",
   "metadata": {},
   "source": [
    "# Goal 1: Automating Pollutant Assessment \n",
    "Current Situation: \n",
    "- ​To evaluate a material's reusability, users must manually input information about \n",
    "pollutants \n",
    "- ​These pollutants (adhesives, paints, fire retardants, etc.) affect how easily materials can \n",
    "be separated and reused \n",
    "- ​The manual nature of this process introduces inconsistency and inefficiency \n",
    "\n"
   ]
  },
  {
   "cell_type": "markdown",
   "metadata": {},
   "source": [
    "## Objective: Develop a system that automatically suggests strong default pollutant values based on the materials being assessed. \n",
    "This system should: \n",
    "- ​Predict likely pollutants based on material combinations \n",
    "- Provide appropriate pollutant classifications \n",
    "- Reduce manual input while improving assessment accuracy "
   ]
  },
  {
   "cell_type": "markdown",
   "metadata": {},
   "source": [
    "## Methodology and approach\n",
    "- Machine learning models to predict pollutants based on material combinations \n",
    "- Pattern recognition systems that identify common construction methods and associated \n",
    "pollutants \n",
    "- Rule-based systems derived from expert knowledge \n",
    "- ​Default value frameworks with adjustment mechanisms based on material properties "
   ]
  },
  {
   "cell_type": "markdown",
   "metadata": {},
   "source": [
    "## Guiding Questions\n",
    "\n",
    "1. How can we identify which materials are commonly used together in building components?\n",
    "2. What properties in the datasets can help us determine the type of connections used between materials?\n",
    "3. How might different connection types affect the end-of-life scenarios in the tBaustoff dataset?\n",
    "4. Can we classify connections based on their environmental impact using the lifecycle assessment data?\n",
    "5. What metrics could we use to define the \"disturbance potential\" of different connection types?\n",
    "6. How can we develop a recommendation system for material connections that optimizes for circularity?"
   ]
  },
  {
   "cell_type": "markdown",
   "metadata": {},
   "source": [
    "# Data Wrangling"
   ]
  },
  {
   "cell_type": "markdown",
   "metadata": {},
   "source": [
    "## Data Extraction"
   ]
  },
  {
   "cell_type": "code",
   "execution_count": 7,
   "metadata": {},
   "outputs": [
    {
     "name": "stdout",
     "output_type": "stream",
     "text": [
      "{'encoding': 'ISO-8859-1', 'confidence': 0.7295400999999999, 'language': ''}\n"
     ]
    }
   ],
   "source": [
    "# detect files encoding\n",
    "with open(\"/Users/pablosoriano/Documents/Data Science/bbsr-challenge/csv/OBD_2024_I.csv\", \"rb\") as f:\n",
    "    result = chardet.detect(f.read(100000))  # Read first 100,000 bytes\n",
    "    print(result)"
   ]
  },
  {
   "cell_type": "code",
   "execution_count": null,
   "metadata": {},
   "outputs": [],
   "source": [
    "# Importing data from CSV and converting to dataframe\n",
    "oko_2024_df = pd.read_csv(\"/Users/pablosoriano/Documents/Data Science/bbsr-challenge/csv/OBD_2024_I.csv\", delimiter=\";\", encoding = result[\"encoding\"], low_memory=False)\n",
    "oko_2023_df= pd.read_csv(\"/Users/pablosoriano/Documents/Data Science/bbsr-challenge/csv/OBD_2023_I.csv\", delimiter=\";\", encoding = result[\"encoding\"], low_memory=False)\n",
    "oko_2020_df = pd.read_csv(\"/Users/pablosoriano/Documents/Data Science/bbsr-challenge/csv/OBD_2020_II.csv\", delimiter=\";\", encoding = result[\"encoding\"], low_memory=False)\n",
    "tbau_df = pd.read_csv(\"/Users/pablosoriano/Documents/Data Science/bbsr-challenge/csv/tBaustoff_with_OBD_mapping.csv\", delimiter=\";\", encoding = result[\"encoding\"], low_memory=False)\n"
   ]
  },
  {
   "cell_type": "code",
   "execution_count": null,
   "metadata": {},
   "outputs": [
    {
     "name": "stdout",
     "output_type": "stream",
     "text": [
      "{'encoding': 'utf-8', 'confidence': 0.99, 'language': ''}\n"
     ]
    }
   ],
   "source": [
    "# detect files encoding for pollutant_combinations.csv\n",
    "with open(\"/Users/pablosoriano/Documents/Data Science/bbsr-challenge/csv/pollutant_combinations.csv\", \"rb\") as f:\n",
    "    result = chardet.detect(f.read(100000))  # Read first 100,000 bytes\n",
    "    print(result)"
   ]
  },
  {
   "cell_type": "code",
   "execution_count": null,
   "metadata": {},
   "outputs": [],
   "source": [
    "# importing pullutant_combinations.csv\n",
    "pollutants_df = pd.read_csv(\"/Users/pablosoriano/Documents/Data Science/bbsr-challenge/csv/pollutant_combinations.csv\", delimiter=\",\", encoding = result[\"encoding\"], low_memory=False)"
   ]
  },
  {
   "cell_type": "code",
   "execution_count": null,
   "metadata": {},
   "outputs": [
    {
     "data": {
      "text/plain": [
       "(262, 546)"
      ]
     },
     "execution_count": 20,
     "metadata": {},
     "output_type": "execute_result"
    }
   ],
   "source": [
    "# Assesing if to merge the dataframes or just keep the one from 2024\n",
    "\n",
    "# Compare unique material names between datasets\n",
    "materials_2020 = set(oko_2020_df[\"Name (en)\"].dropna().unique())\n",
    "materials_2023 = set(oko_2023_df[\"Name (en)\"].dropna().unique())\n",
    "materials_2024 = set(oko_2024_df[\"Name (en)\"].dropna().unique())\n",
    "\n",
    "# Find materials in 2020 and 2023 that are not in 2024\n",
    "unique_2020 = materials_2020 - materials_2024\n",
    "unique_2023 = materials_2023 - materials_2024\n",
    "\n",
    "# Count them\n",
    "unique_2020_count = len(unique_2020)\n",
    "unique_2023_count = len(unique_2023)\n",
    "\n",
    "unique_2020_count, unique_2023_count\n"
   ]
  },
  {
   "cell_type": "markdown",
   "metadata": {},
   "source": [
    "There are materials in previous datasets that are not present in the 2024 dataset:\n",
    "\n",
    "2020 has 262 materials not found in 2024.\n",
    "2023 has 546 materials not found in 2024.\n",
    "\n",
    "This means that the 2024 dataset is not a full replacement — it doesn’t include all materials from earlier versions.\n",
    "\n",
    "For maximum coverage (e.g. all materials ever documented), we should consider including previous years."
   ]
  },
  {
   "cell_type": "code",
   "execution_count": 21,
   "metadata": {},
   "outputs": [],
   "source": [
    "# merging the datasets\n",
    "\n",
    "# Add a source column for reference\n",
    "oko_2020_df[\"source_year\"] = 2020\n",
    "oko_2023_df[\"source_year\"] = 2023\n",
    "oko_2024_df[\"source_year\"] = 2024\n",
    "\n",
    "# Combine all datasets\n",
    "oko_combined_df = pd.concat([oko_2020_df, oko_2023_df, oko_2024_df], ignore_index=True)"
   ]
  },
  {
   "cell_type": "code",
   "execution_count": 22,
   "metadata": {},
   "outputs": [],
   "source": [
    "# Sort by source year descending to keep the latest entry in case of duplicates\n",
    "combined_df_sorted = oko_combined_df.sort_values(by=\"source_year\", ascending=False)\n"
   ]
  },
  {
   "cell_type": "code",
   "execution_count": 23,
   "metadata": {},
   "outputs": [],
   "source": [
    "# Drop duplicates keeping the latest version (based on UUID, Version, Modul)\n",
    "deduped_df = combined_df_sorted.drop_duplicates(subset=[\"UUID\", \"Version\", \"Modul\"], keep=\"first\")\n",
    "\n",
    "# Reset index and show result\n",
    "deduped_df.reset_index(drop=True, inplace=True)"
   ]
  },
  {
   "cell_type": "code",
   "execution_count": null,
   "metadata": {},
   "outputs": [],
   "source": [
    "deduped_df"
   ]
  },
  {
   "cell_type": "markdown",
   "metadata": {},
   "source": [
    "## Data Cleaning"
   ]
  },
  {
   "cell_type": "code",
   "execution_count": 24,
   "metadata": {},
   "outputs": [],
   "source": [
    "# Identifying the columns with missing values\n",
    "missing_values = deduped_df.isnull().sum()"
   ]
  },
  {
   "cell_type": "code",
   "execution_count": 25,
   "metadata": {},
   "outputs": [
    {
     "data": {
      "text/plain": [
       "UUID                        0\n",
       "Version                     0\n",
       "Name (de)                2886\n",
       "Name (en)                2953\n",
       "Kategorie (original)        0\n",
       "                        ...  \n",
       "WDP (A2)                 9405\n",
       "Unnamed: 79             25665\n",
       "source_year                 0\n",
       "Stueckgewicht (kg)      25477\n",
       "Unnamed: 80             25665\n",
       "Length: 83, dtype: int64"
      ]
     },
     "execution_count": 25,
     "metadata": {},
     "output_type": "execute_result"
    }
   ],
   "source": [
    "missing_values"
   ]
  },
  {
   "cell_type": "code",
   "execution_count": 27,
   "metadata": {},
   "outputs": [
    {
     "data": {
      "text/plain": [
       "URL des Vorgängers        1.000000\n",
       "Unnamed: 80               1.000000\n",
       "Unnamed: 79               1.000000\n",
       "Stueckgewicht (kg)        0.992675\n",
       "Ergiebigkeit (m2)         0.987064\n",
       "Schuettdichte (kg/m3)     0.986090\n",
       "Laengengewicht (kg/m)     0.941126\n",
       "Version des Vorgängers    0.937502\n",
       "dtype: float64"
      ]
     },
     "execution_count": 27,
     "metadata": {},
     "output_type": "execute_result"
    }
   ],
   "source": [
    "# Calculate percentage of missing values per column\n",
    "null_percentage = deduped_df.isnull().mean().sort_values(ascending=False)\n",
    "\n",
    "# Select columns with more than 90% missing values\n",
    "high_null_cols = null_percentage[null_percentage > 0.9]\n",
    "high_null_cols"
   ]
  },
  {
   "cell_type": "markdown",
   "metadata": {},
   "source": [
    "These columns have extremely low data coverage and are unlikely to offer analytical value without substantial data imputation or external sourcing. Dropping them will simplify the dataset and reduce noise without significant information loss."
   ]
  },
  {
   "cell_type": "markdown",
   "metadata": {},
   "source": [
    "Unnamed: 80 and URL des Vorgängers are completely empty → should be dropped.\n"
   ]
  },
  {
   "cell_type": "code",
   "execution_count": 28,
   "metadata": {},
   "outputs": [],
   "source": [
    "# Drop the columns with >90% missing values\n",
    "columns_to_drop = [\n",
    "    \"Unnamed: 80\", \"Unnamed: 79\", \"URL des Vorgängers\",\n",
    "    \"Stueckgewicht (kg)\", \"Ergiebigkeit (m2)\", \"Schuettdichte (kg/m3)\",\n",
    "    \"Laengengewicht (kg/m)\", \"Version des Vorgängers\"\n",
    "]\n",
    "\n",
    "cleaned_df = deduped_df.drop(columns=columns_to_drop)"
   ]
  },
  {
   "cell_type": "markdown",
   "metadata": {},
   "source": [
    "Missing values of Environmental Impact Indicators (EN 15804+A1 and +2)\n",
    "\n",
    "Understanding the EN 15804 Standard and Its Impact on LCA Calculations\n",
    "The EN 15804 standard is the foundation for Environmental Product Declarations (EPDs) worldwide. In 2019, a significant update (EN 15804+A2) was released, becoming mandatory in July 2022. This update changes how environmental impacts are measured in EPDs.\n",
    "\n",
    "What Changed?\n",
    "While the environmental impact categories (like global warming and ozone depletion) are mostly the same, the units used to measure them have changed. This means that older EPDs (EN 15804+A1) cannot be directly compared or used with newer EPDs (EN 15804+A2) in LCA calculations.\n",
    "\n",
    "How does this affect Building LCA?\n",
    "Simply put, you can't mix and match old and new EPDs in your building LCA calculations.\n",
    "\n",
    "Since 15804+A1 has a big % of missing values and it's out of use, I will evaluate drop the whole columns unless they have values that are not covered in +A2\n",
    "\n"
   ]
  },
  {
   "cell_type": "code",
   "execution_count": 29,
   "metadata": {},
   "outputs": [
    {
     "data": {
      "text/plain": [
       "(GWP     8294\n",
       " ODP     8281\n",
       " POCP    8281\n",
       " AP      8281\n",
       " ADPE    8281\n",
       " EP      8279\n",
       " ADPF    8277\n",
       " dtype: int64,\n",
       " np.int64(8294))"
      ]
     },
     "execution_count": 29,
     "metadata": {},
     "output_type": "execute_result"
    }
   ],
   "source": [
    "# Define A1 and A2 column groups\n",
    "a1_columns = [\"GWP\", \"ODP\", \"POCP\", \"AP\", \"EP\", \"ADPE\", \"ADPF\"]\n",
    "a2_columns = [\n",
    "    \"GWPtotal (A2)\", \"GWPbiogenic (A2)\", \"GWPfossil (A2)\", \"GWPluluc (A2)\",\n",
    "    \"ODP (A2)\", \"POCP (A2)\", \"AP (A2)\", \"EPmarine (A2)\", \"EPfreshwater (A2)\", \n",
    "    \"EPterrestrial (A2)\", \"ADPE (A2)\", \"ADPF (A2)\"\n",
    "]\n",
    "\n",
    "# Check for non-null rows in A1 indicators\n",
    "a1_non_null = (cleaned_df[a1_columns].notnull().sum()).sort_values(ascending=False)\n",
    "\n",
    "# Check for any A1 values that do not have A2 counterparts in the same row\n",
    "# Simplest heuristic: check if A1 column is filled but all A2s are null for that row\n",
    "rows_with_only_a1 = cleaned_df[a1_columns].notnull().any(axis=1) & (~cleaned_df[a2_columns].notnull().any(axis=1))\n",
    "\n",
    "# Count how many rows this applies to\n",
    "only_a1_count = rows_with_only_a1.sum()\n",
    "\n",
    "a1_non_null, only_a1_count\n"
   ]
  },
  {
   "cell_type": "markdown",
   "metadata": {},
   "source": [
    "Interpretation: These A1 values are not duplicated or represented in the A2 columns — they are unique to older datasets.\n",
    "Therefore, dropping them would result in data loss for ~8,300 records."
   ]
  },
  {
   "cell_type": "markdown",
   "metadata": {},
   "source": [
    "## Data Transformation"
   ]
  },
  {
   "cell_type": "code",
   "execution_count": 31,
   "metadata": {},
   "outputs": [
    {
     "name": "stdout",
     "output_type": "stream",
     "text": [
      "<class 'pandas.core.frame.DataFrame'>\n",
      "RangeIndex: 25665 entries, 0 to 25664\n",
      "Data columns (total 76 columns):\n",
      " #   Column                                         Non-Null Count  Dtype  \n",
      "---  ------                                         --------------  -----  \n",
      " 0   UUID                                           25665 non-null  object \n",
      " 1   Version                                        25665 non-null  object \n",
      " 2   Name (de)                                      22779 non-null  object \n",
      " 3   Name (en)                                      22712 non-null  object \n",
      " 4   Kategorie (original)                           25665 non-null  object \n",
      " 5   Kategorie (en)                                 25665 non-null  object \n",
      " 6   Konformität                                    25665 non-null  object \n",
      " 7   Laenderkennung                                 25659 non-null  object \n",
      " 8   Typ                                            25665 non-null  object \n",
      " 9   Referenzjahr                                   25659 non-null  float64\n",
      " 10  Gueltig bis                                    25659 non-null  float64\n",
      " 11  URL                                            25665 non-null  object \n",
      " 12  Declaration owner                              25665 non-null  object \n",
      " 13  Veroeffentlicht am                             15397 non-null  object \n",
      " 14  Registrierungsnummer                           16093 non-null  object \n",
      " 15  Registrierungsstelle                           18580 non-null  object \n",
      " 16  UUID des Vorgängers                            6588 non-null   object \n",
      " 17  Bezugsgroesse                                  25665 non-null  object \n",
      " 18  Bezugseinheit                                  25634 non-null  object \n",
      " 19  Referenzfluss-UUID                             25665 non-null  object \n",
      " 20  Referenzfluss-Name                             25665 non-null  object \n",
      " 21  Flaechengewicht (kg/m2)                        13073 non-null  object \n",
      " 22  Rohdichte (kg/m3)                              12235 non-null  object \n",
      " 23  Schichtdicke (m)                               9564 non-null   object \n",
      " 24  Umrechungsfaktor auf 1kg                       3953 non-null   object \n",
      " 25  biogener Kohlenstoffgehalt in kg               3298 non-null   object \n",
      " 26  biogener Kohlenstoffgehalt (Verpackung) in kg  4505 non-null   object \n",
      " 27  Modul                                          25665 non-null  object \n",
      " 28  Szenario                                       2792 non-null   object \n",
      " 29  Szenariobeschreibung                           2781 non-null   object \n",
      " 30  GWP                                            8294 non-null   object \n",
      " 31  ODP                                            8281 non-null   object \n",
      " 32  POCP                                           8281 non-null   object \n",
      " 33  AP                                             8281 non-null   object \n",
      " 34  EP                                             8279 non-null   object \n",
      " 35  ADPE                                           8281 non-null   object \n",
      " 36  ADPF                                           8277 non-null   object \n",
      " 37  PERE                                           24287 non-null  object \n",
      " 38  PERM                                           24146 non-null  object \n",
      " 39  PERT                                           24544 non-null  object \n",
      " 40  PENRE                                          24284 non-null  object \n",
      " 41  PENRM                                          24182 non-null  object \n",
      " 42  PENRT                                          24542 non-null  object \n",
      " 43  SM                                             24298 non-null  object \n",
      " 44  RSF                                            24279 non-null  object \n",
      " 45  NRSF                                           24277 non-null  object \n",
      " 46  FW                                             24144 non-null  object \n",
      " 47  HWD                                            24441 non-null  object \n",
      " 48  NHWD                                           24443 non-null  object \n",
      " 49  RWD                                            24440 non-null  object \n",
      " 50  CRU                                            24095 non-null  object \n",
      " 51  MFR                                            24135 non-null  object \n",
      " 52  MER                                            24114 non-null  object \n",
      " 53  EEE                                            24190 non-null  object \n",
      " 54  EET                                            24188 non-null  object \n",
      " 55  AP (A2)                                        16260 non-null  object \n",
      " 56  GWPtotal (A2)                                  16260 non-null  object \n",
      " 57  GWPbiogenic (A2)                               16260 non-null  object \n",
      " 58  GWPfossil (A2)                                 16260 non-null  object \n",
      " 59  GWPluluc (A2)                                  15924 non-null  object \n",
      " 60  ETPfw (A2)                                     10352 non-null  object \n",
      " 61  PM (A2)                                        10436 non-null  object \n",
      " 62  EPmarine (A2)                                  16257 non-null  object \n",
      " 63  EPfreshwater (A2)                              16260 non-null  object \n",
      " 64  EPterrestrial (A2)                             16260 non-null  object \n",
      " 65  HTPc (A2)                                      10352 non-null  object \n",
      " 66  HTPnc (A2)                                     10352 non-null  object \n",
      " 67  IRP (A2)                                       10444 non-null  object \n",
      " 68  SOP (A2)                                       9841 non-null   object \n",
      " 69  ODP (A2)                                       16260 non-null  object \n",
      " 70  POCP (A2)                                      16260 non-null  object \n",
      " 71  ADPF (A2)                                      16260 non-null  object \n",
      " 72  ADPE (A2)                                      16260 non-null  object \n",
      " 73  WDP (A2)                                       16260 non-null  object \n",
      " 74  source_year                                    25665 non-null  int64  \n",
      " 75  impact_standard                                25665 non-null  object \n",
      "dtypes: float64(2), int64(1), object(73)\n",
      "memory usage: 14.9+ MB\n"
     ]
    }
   ],
   "source": [
    "cleaned_df.info()"
   ]
  },
  {
   "cell_type": "code",
   "execution_count": null,
   "metadata": {},
   "outputs": [],
   "source": [
    "# Convert numeric columns (A2 environmental indicators and other relevant ones) from string to float\n",
    "# We'll replace commas with dots and coerce errors to NaN\n",
    "\n",
    "numeric_cols = [\n",
    "    \"Referenzjahr\", \"Gueltig bis\", \"GWP\", \"ODP\", \"POCP\", \"AP\", \"EP\", \"ADPE\", \"ADPF\",\"PERE\", \"PERM\", \"PERT\", \"PENRE\", \"PENRM\", \"PENRT\",\n",
    "    \"SM\", \"RSF\", \"NRSF\", \"FW\", \"HWD\", \"NHWD\", \"RWD\", \"CRU\", \"MFR\", \"MER\", \"EEE\", \"EET\",\n",
    "    \"AP (A2)\", \"GWPtotal (A2)\", \"GWPbiogenic (A2)\", \"GWPfossil (A2)\", \"GWPluluc (A2)\",\n",
    "    \"ETPfw (A2)\", \"PM (A2)\", \"EPmarine (A2)\", \"EPfreshwater (A2)\", \"EPterrestrial (A2)\",\n",
    "    \"HTPc (A2)\", \"HTPnc (A2)\", \"IRP (A2)\", \"SOP (A2)\", \"ODP (A2)\", \"POCP (A2)\",\n",
    "    \"ADPF (A2)\", \"ADPE (A2)\", \"WDP (A2)\"\n",
    "]\n",
    "\n",
    "# Convert all columns listed above \n",
    "for col in numeric_cols:\n",
    "    if col in cleaned_df.columns:\n",
    "        cleaned_df[col] = cleaned_df[col].astype(str).str.replace(\",\", \".\").str.strip()\n",
    "        cleaned_df[col] = pd.to_numeric(cleaned_df[col], errors='coerce')\n",
    "\n",
    "# Convert date column to datetime\n",
    "if \"Veroeffentlicht am\" in cleaned_df.columns:\n",
    "    cleaned_df[\"Veroeffentlicht am\"] = pd.to_datetime(cleaned_df[\"Veroeffentlicht am\"], errors='coerce')\n",
    "\n",
    "# Convert Referenzjahr and Gueltig bis to integer \n",
    "cleaned_df[\"Referenzjahr\"] = cleaned_df[\"Referenzjahr\"].dropna().astype(\"Int64\")\n",
    "cleaned_df[\"Gueltig bis\"] = cleaned_df[\"Gueltig bis\"].dropna().astype(\"Int64\")"
   ]
  },
  {
   "cell_type": "markdown",
   "metadata": {},
   "source": [
    "- Numeric columns were converted from string (with commas) to proper float types.\n",
    "\n",
    "- Date column Veroeffentlicht am is now in datetime format.\n",
    "\n",
    "- Year columns like Referenzjahr and Gueltig bis were converted to integer type where possible."
   ]
  },
  {
   "cell_type": "code",
   "execution_count": null,
   "metadata": {},
   "outputs": [],
   "source": [
    "cleaned_df"
   ]
  },
  {
   "cell_type": "markdown",
   "metadata": {},
   "source": [
    "#REVIEW - Was thinking of imputing missing values of A2 columns with the median for category and module, but two materials in the same Kategorie (en) and Modul can differ a lot in their environmental impact or circularity, especially depending on:\n",
    "\n",
    "- Production method (e.g., recycled vs virgin)\n",
    "- Geographic source (local vs imported)\n",
    "- Manufacturer-specific practices\n",
    "- Declared unit or functional equivalence\n",
    "\n",
    "Let's check if we can impute this values from other sources"
   ]
  },
  {
   "cell_type": "markdown",
   "metadata": {},
   "source": [
    "## Data Enrichment"
   ]
  },
  {
   "cell_type": "code",
   "execution_count": 30,
   "metadata": {},
   "outputs": [
    {
     "data": {
      "text/plain": [
       "impact_standard\n",
       "A2      16260\n",
       "A1       8294\n",
       "none     1111\n",
       "Name: count, dtype: int64"
      ]
     },
     "execution_count": 30,
     "metadata": {},
     "output_type": "execute_result"
    }
   ],
   "source": [
    "# Helper column classifying the environmental impact standard\n",
    "def classify_impact_standard(row):\n",
    "    has_a1 = row[a1_columns].notnull().any()\n",
    "    has_a2 = row[a2_columns].notnull().any()\n",
    "    if has_a1 and not has_a2:\n",
    "        return \"A1\"\n",
    "    elif has_a2 and not has_a1:\n",
    "        return \"A2\"\n",
    "    elif has_a1 and has_a2:\n",
    "        return \"mixed\"\n",
    "    else:\n",
    "        return \"none\"\n",
    "\n",
    "# Apply the function\n",
    "cleaned_df[\"impact_standard\"] = cleaned_df.apply(classify_impact_standard, axis=1)\n",
    "\n",
    "# Show counts for each category\n",
    "impact_counts = cleaned_df[\"impact_standard\"].value_counts()\n",
    "\n",
    "impact_counts\n"
   ]
  },
  {
   "cell_type": "markdown",
   "metadata": {},
   "source": [
    "### Grouping high cardinality categorical variables\n",
    "\n",
    "Why Group High-Cardinality Categorical Variables?\n",
    "\n",
    "- Simplifies the Data\n",
    "- Some text columns may have hundreds of unique values but little analytical meaning (e.g., slight naming variations).\n",
    "- Improves Interpretability\n",
    "- Creating higher-level groupings makes it easier to see patterns (e.g., grouping brands, regions, or dataset types).\n",
    "- Reduces Noise in Visualizations/Models\n",
    "- Too many categories can overwhelm bar charts or lead to sparse dummy variables in ML models."
   ]
  },
  {
   "cell_type": "code",
   "execution_count": 34,
   "metadata": {},
   "outputs": [
    {
     "name": "stdout",
     "output_type": "stream",
     "text": [
      "Number of unique values in UUID column:  3863\n",
      "Number of unique values in Version column:  118\n",
      "Number of unique values in Name (de) column:  2459\n",
      "Number of unique values in Name (en) column:  2495\n",
      "Number of unique values in Kategorie (original) column:  264\n",
      "Number of unique values in Kategorie (en) column:  265\n",
      "Number of unique values in Konformität column:  16\n",
      "Number of unique values in Laenderkennung column:  42\n",
      "Number of unique values in Typ column:  5\n",
      "Number of unique values in URL column:  3984\n",
      "Number of unique values in Declaration owner column:  439\n",
      "Number of unique values in Registrierungsnummer column:  1567\n",
      "Number of unique values in Registrierungsstelle column:  11\n",
      "Number of unique values in UUID des Vorgängers column:  809\n",
      "Number of unique values in Bezugsgroesse column:  37\n",
      "Number of unique values in Bezugseinheit column:  9\n",
      "Number of unique values in Referenzfluss-UUID column:  2549\n",
      "Number of unique values in Referenzfluss-Name column:  2280\n",
      "Number of unique values in Flaechengewicht (kg/m2) column:  990\n",
      "Number of unique values in Rohdichte (kg/m3) column:  744\n",
      "Number of unique values in Schichtdicke (m) column:  304\n",
      "Number of unique values in Umrechungsfaktor auf 1kg column:  313\n",
      "Number of unique values in biogener Kohlenstoffgehalt in kg column:  94\n",
      "Number of unique values in biogener Kohlenstoffgehalt (Verpackung) in kg column:  130\n",
      "Number of unique values in Modul column:  18\n",
      "Number of unique values in Szenario column:  21\n",
      "Number of unique values in Szenariobeschreibung column:  240\n",
      "Number of unique values in impact_standard column:  3\n"
     ]
    },
    {
     "data": {
      "text/html": [
       "<div>\n",
       "<style scoped>\n",
       "    .dataframe tbody tr th:only-of-type {\n",
       "        vertical-align: middle;\n",
       "    }\n",
       "\n",
       "    .dataframe tbody tr th {\n",
       "        vertical-align: top;\n",
       "    }\n",
       "\n",
       "    .dataframe thead th {\n",
       "        text-align: right;\n",
       "    }\n",
       "</style>\n",
       "<table border=\"1\" class=\"dataframe\">\n",
       "  <thead>\n",
       "    <tr style=\"text-align: right;\">\n",
       "      <th></th>\n",
       "      <th>UUID</th>\n",
       "      <th>Version</th>\n",
       "      <th>Name (de)</th>\n",
       "      <th>Name (en)</th>\n",
       "      <th>Kategorie (original)</th>\n",
       "      <th>Kategorie (en)</th>\n",
       "      <th>Konformität</th>\n",
       "      <th>Laenderkennung</th>\n",
       "      <th>Typ</th>\n",
       "      <th>Referenzjahr</th>\n",
       "      <th>...</th>\n",
       "      <th>HTPnc (A2)</th>\n",
       "      <th>IRP (A2)</th>\n",
       "      <th>SOP (A2)</th>\n",
       "      <th>ODP (A2)</th>\n",
       "      <th>POCP (A2)</th>\n",
       "      <th>ADPF (A2)</th>\n",
       "      <th>ADPE (A2)</th>\n",
       "      <th>WDP (A2)</th>\n",
       "      <th>source_year</th>\n",
       "      <th>impact_standard</th>\n",
       "    </tr>\n",
       "  </thead>\n",
       "  <tbody>\n",
       "    <tr>\n",
       "      <th>0</th>\n",
       "      <td>3501e11c-2909-4e3f-a976-2fa82c86e803</td>\n",
       "      <td>00.00.009</td>\n",
       "      <td>Claytec Mineral 20 trocken</td>\n",
       "      <td>Claytec Mineral 20 dried</td>\n",
       "      <td>'Mineralische Baustoffe' / 'Mörtel und Beton' ...</td>\n",
       "      <td>'Mineral building products' / 'Mortar and Conc...</td>\n",
       "      <td>'EN 15804+A2 (EF 3.0)' / 'PCR Ökobilanzierung ...</td>\n",
       "      <td>DE</td>\n",
       "      <td>specific dataset</td>\n",
       "      <td>2022</td>\n",
       "      <td>...</td>\n",
       "      <td>NaN</td>\n",
       "      <td>NaN</td>\n",
       "      <td>NaN</td>\n",
       "      <td>-2.549346e-06</td>\n",
       "      <td>-2.049393e-05</td>\n",
       "      <td>-0.462753</td>\n",
       "      <td>-4.342871e-07</td>\n",
       "      <td>-0.000162</td>\n",
       "      <td>2024</td>\n",
       "      <td>A2</td>\n",
       "    </tr>\n",
       "    <tr>\n",
       "      <th>1</th>\n",
       "      <td>00fe2655-02ad-4ded-925a-af9b8f1a27c8</td>\n",
       "      <td>00.00.015</td>\n",
       "      <td>FASBA e.V. Baustroh 100 kg/m³</td>\n",
       "      <td>FASBA e.V. Baustroh 100 kg/m³ GaBi - 2024</td>\n",
       "      <td>'Dämmstoffe' / 'Stroh' / 'Strohballen'</td>\n",
       "      <td>'Insulation materials' / 'Straw' / 'Straw bale'</td>\n",
       "      <td>'EN 15804+A2 (EF 3.1)' / 'ISO 14025'</td>\n",
       "      <td>DE</td>\n",
       "      <td>specific dataset</td>\n",
       "      <td>2024</td>\n",
       "      <td>...</td>\n",
       "      <td>-1.931275e-07</td>\n",
       "      <td>-0.164974</td>\n",
       "      <td>-11.855288</td>\n",
       "      <td>-3.539990e-11</td>\n",
       "      <td>-1.033700e-02</td>\n",
       "      <td>-441.423176</td>\n",
       "      <td>-8.462049e-07</td>\n",
       "      <td>-0.055600</td>\n",
       "      <td>2024</td>\n",
       "      <td>A2</td>\n",
       "    </tr>\n",
       "    <tr>\n",
       "      <th>2</th>\n",
       "      <td>00fe2655-02ad-4ded-925a-af9b8f1a27c8</td>\n",
       "      <td>00.00.015</td>\n",
       "      <td>FASBA e.V. Baustroh 100 kg/m³</td>\n",
       "      <td>FASBA e.V. Baustroh 100 kg/m³ GaBi - 2024</td>\n",
       "      <td>'Dämmstoffe' / 'Stroh' / 'Strohballen'</td>\n",
       "      <td>'Insulation materials' / 'Straw' / 'Straw bale'</td>\n",
       "      <td>'EN 15804+A2 (EF 3.1)' / 'ISO 14025'</td>\n",
       "      <td>DE</td>\n",
       "      <td>specific dataset</td>\n",
       "      <td>2024</td>\n",
       "      <td>...</td>\n",
       "      <td>0.000000e+00</td>\n",
       "      <td>0.000000</td>\n",
       "      <td>0.000000</td>\n",
       "      <td>0.000000e+00</td>\n",
       "      <td>0.000000e+00</td>\n",
       "      <td>0.000000</td>\n",
       "      <td>0.000000e+00</td>\n",
       "      <td>0.000000</td>\n",
       "      <td>2024</td>\n",
       "      <td>A2</td>\n",
       "    </tr>\n",
       "    <tr>\n",
       "      <th>3</th>\n",
       "      <td>00fe2655-02ad-4ded-925a-af9b8f1a27c8</td>\n",
       "      <td>00.00.015</td>\n",
       "      <td>FASBA e.V. Baustroh 100 kg/m³</td>\n",
       "      <td>FASBA e.V. Baustroh 100 kg/m³ GaBi - 2024</td>\n",
       "      <td>'Dämmstoffe' / 'Stroh' / 'Strohballen'</td>\n",
       "      <td>'Insulation materials' / 'Straw' / 'Straw bale'</td>\n",
       "      <td>'EN 15804+A2 (EF 3.1)' / 'ISO 14025'</td>\n",
       "      <td>DE</td>\n",
       "      <td>specific dataset</td>\n",
       "      <td>2024</td>\n",
       "      <td>...</td>\n",
       "      <td>2.743039e-08</td>\n",
       "      <td>0.238850</td>\n",
       "      <td>16.740538</td>\n",
       "      <td>5.242030e-11</td>\n",
       "      <td>2.433899e-02</td>\n",
       "      <td>24.347930</td>\n",
       "      <td>3.594269e-07</td>\n",
       "      <td>0.219631</td>\n",
       "      <td>2024</td>\n",
       "      <td>A2</td>\n",
       "    </tr>\n",
       "    <tr>\n",
       "      <th>4</th>\n",
       "      <td>3501e11c-2909-4e3f-a976-2fa82c86e803</td>\n",
       "      <td>00.00.009</td>\n",
       "      <td>Claytec Mineral 20 trocken</td>\n",
       "      <td>Claytec Mineral 20 dried</td>\n",
       "      <td>'Mineralische Baustoffe' / 'Mörtel und Beton' ...</td>\n",
       "      <td>'Mineral building products' / 'Mortar and Conc...</td>\n",
       "      <td>'EN 15804+A2 (EF 3.0)' / 'PCR Ökobilanzierung ...</td>\n",
       "      <td>DE</td>\n",
       "      <td>specific dataset</td>\n",
       "      <td>2022</td>\n",
       "      <td>...</td>\n",
       "      <td>NaN</td>\n",
       "      <td>NaN</td>\n",
       "      <td>NaN</td>\n",
       "      <td>8.308000e-05</td>\n",
       "      <td>3.862000e-11</td>\n",
       "      <td>0.199900</td>\n",
       "      <td>6.946000e-07</td>\n",
       "      <td>0.001645</td>\n",
       "      <td>2024</td>\n",
       "      <td>A2</td>\n",
       "    </tr>\n",
       "    <tr>\n",
       "      <th>...</th>\n",
       "      <td>...</td>\n",
       "      <td>...</td>\n",
       "      <td>...</td>\n",
       "      <td>...</td>\n",
       "      <td>...</td>\n",
       "      <td>...</td>\n",
       "      <td>...</td>\n",
       "      <td>...</td>\n",
       "      <td>...</td>\n",
       "      <td>...</td>\n",
       "      <td>...</td>\n",
       "      <td>...</td>\n",
       "      <td>...</td>\n",
       "      <td>...</td>\n",
       "      <td>...</td>\n",
       "      <td>...</td>\n",
       "      <td>...</td>\n",
       "      <td>...</td>\n",
       "      <td>...</td>\n",
       "      <td>...</td>\n",
       "      <td>...</td>\n",
       "    </tr>\n",
       "    <tr>\n",
       "      <th>25660</th>\n",
       "      <td>34f8d4b9-2ff3-4ca3-aab0-d52c6e455f71</td>\n",
       "      <td>00.00.013</td>\n",
       "      <td>Isospan 1 GaBi Holzbetonmantelsteine mit Holzf...</td>\n",
       "      <td>NaN</td>\n",
       "      <td>'Mineralische Baustoffe' / 'Steine und Element...</td>\n",
       "      <td>'Mineral building products' / 'Bricks, blocks ...</td>\n",
       "      <td>'EN 15804' / 'ISO 14025'</td>\n",
       "      <td>AT</td>\n",
       "      <td>specific dataset</td>\n",
       "      <td>2017</td>\n",
       "      <td>...</td>\n",
       "      <td>NaN</td>\n",
       "      <td>NaN</td>\n",
       "      <td>NaN</td>\n",
       "      <td>NaN</td>\n",
       "      <td>NaN</td>\n",
       "      <td>NaN</td>\n",
       "      <td>NaN</td>\n",
       "      <td>NaN</td>\n",
       "      <td>2020</td>\n",
       "      <td>A1</td>\n",
       "    </tr>\n",
       "    <tr>\n",
       "      <th>25661</th>\n",
       "      <td>34f8d4b9-2ff3-4ca3-aab0-d52c6e455f71</td>\n",
       "      <td>00.00.013</td>\n",
       "      <td>Isospan 1 GaBi Holzbetonmantelsteine mit Holzf...</td>\n",
       "      <td>NaN</td>\n",
       "      <td>'Mineralische Baustoffe' / 'Steine und Element...</td>\n",
       "      <td>'Mineral building products' / 'Bricks, blocks ...</td>\n",
       "      <td>'EN 15804' / 'ISO 14025'</td>\n",
       "      <td>AT</td>\n",
       "      <td>specific dataset</td>\n",
       "      <td>2017</td>\n",
       "      <td>...</td>\n",
       "      <td>NaN</td>\n",
       "      <td>NaN</td>\n",
       "      <td>NaN</td>\n",
       "      <td>NaN</td>\n",
       "      <td>NaN</td>\n",
       "      <td>NaN</td>\n",
       "      <td>NaN</td>\n",
       "      <td>NaN</td>\n",
       "      <td>2020</td>\n",
       "      <td>A1</td>\n",
       "    </tr>\n",
       "    <tr>\n",
       "      <th>25662</th>\n",
       "      <td>8d06b1df-e898-4009-adee-57ca44aaafcc</td>\n",
       "      <td>00.05.000</td>\n",
       "      <td>BauderTHERMOFOL</td>\n",
       "      <td>BauderTHERMOFOL U / M</td>\n",
       "      <td>'Kunststoffe' / 'Dachbahnen' / 'PVC-Dachbahnen'</td>\n",
       "      <td>'Plastics' / 'Roofing membranes' / 'PVC sheet'</td>\n",
       "      <td>'DIN EN 15804' / 'ISO 14025'</td>\n",
       "      <td>DE</td>\n",
       "      <td>average dataset</td>\n",
       "      <td>2016</td>\n",
       "      <td>...</td>\n",
       "      <td>NaN</td>\n",
       "      <td>NaN</td>\n",
       "      <td>NaN</td>\n",
       "      <td>NaN</td>\n",
       "      <td>NaN</td>\n",
       "      <td>NaN</td>\n",
       "      <td>NaN</td>\n",
       "      <td>NaN</td>\n",
       "      <td>2020</td>\n",
       "      <td>A1</td>\n",
       "    </tr>\n",
       "    <tr>\n",
       "      <th>25663</th>\n",
       "      <td>d4680073-0c9c-40f4-842f-c6830856812c</td>\n",
       "      <td>00.03.000</td>\n",
       "      <td>Betonpflaster- Standardstein grau mit Vorsatz</td>\n",
       "      <td>NaN</td>\n",
       "      <td>'Mineralische Baustoffe' / 'Steine und Element...</td>\n",
       "      <td>'Mineral building products' / 'Bricks, blocks ...</td>\n",
       "      <td>'DIN EN 15804' / 'ISO 14025'</td>\n",
       "      <td>DE</td>\n",
       "      <td>average dataset</td>\n",
       "      <td>2015</td>\n",
       "      <td>...</td>\n",
       "      <td>NaN</td>\n",
       "      <td>NaN</td>\n",
       "      <td>NaN</td>\n",
       "      <td>NaN</td>\n",
       "      <td>NaN</td>\n",
       "      <td>NaN</td>\n",
       "      <td>NaN</td>\n",
       "      <td>NaN</td>\n",
       "      <td>2020</td>\n",
       "      <td>A1</td>\n",
       "    </tr>\n",
       "    <tr>\n",
       "      <th>25664</th>\n",
       "      <td>9179f12a-8fef-4319-a150-a6bb1286c37c</td>\n",
       "      <td>00.05.000</td>\n",
       "      <td>BauderTHERMOPLAN</td>\n",
       "      <td>BauderTHERMOPLAN</td>\n",
       "      <td>'Kunststoffe' / 'Dachbahnen' / 'Elastomer-Dach...</td>\n",
       "      <td>'Plastics' / 'Roofing membranes' / 'Elastomer ...</td>\n",
       "      <td>'DIN EN 15804' / 'ISO 14025'</td>\n",
       "      <td>DE</td>\n",
       "      <td>average dataset</td>\n",
       "      <td>2016</td>\n",
       "      <td>...</td>\n",
       "      <td>NaN</td>\n",
       "      <td>NaN</td>\n",
       "      <td>NaN</td>\n",
       "      <td>NaN</td>\n",
       "      <td>NaN</td>\n",
       "      <td>NaN</td>\n",
       "      <td>NaN</td>\n",
       "      <td>NaN</td>\n",
       "      <td>2020</td>\n",
       "      <td>A1</td>\n",
       "    </tr>\n",
       "  </tbody>\n",
       "</table>\n",
       "<p>25665 rows × 76 columns</p>\n",
       "</div>"
      ],
      "text/plain": [
       "                                       UUID    Version  \\\n",
       "0      3501e11c-2909-4e3f-a976-2fa82c86e803  00.00.009   \n",
       "1      00fe2655-02ad-4ded-925a-af9b8f1a27c8  00.00.015   \n",
       "2      00fe2655-02ad-4ded-925a-af9b8f1a27c8  00.00.015   \n",
       "3      00fe2655-02ad-4ded-925a-af9b8f1a27c8  00.00.015   \n",
       "4      3501e11c-2909-4e3f-a976-2fa82c86e803  00.00.009   \n",
       "...                                     ...        ...   \n",
       "25660  34f8d4b9-2ff3-4ca3-aab0-d52c6e455f71  00.00.013   \n",
       "25661  34f8d4b9-2ff3-4ca3-aab0-d52c6e455f71  00.00.013   \n",
       "25662  8d06b1df-e898-4009-adee-57ca44aaafcc  00.05.000   \n",
       "25663  d4680073-0c9c-40f4-842f-c6830856812c  00.03.000   \n",
       "25664  9179f12a-8fef-4319-a150-a6bb1286c37c  00.05.000   \n",
       "\n",
       "                                               Name (de)  \\\n",
       "0                             Claytec Mineral 20 trocken   \n",
       "1                          FASBA e.V. Baustroh 100 kg/m³   \n",
       "2                          FASBA e.V. Baustroh 100 kg/m³   \n",
       "3                          FASBA e.V. Baustroh 100 kg/m³   \n",
       "4                             Claytec Mineral 20 trocken   \n",
       "...                                                  ...   \n",
       "25660  Isospan 1 GaBi Holzbetonmantelsteine mit Holzf...   \n",
       "25661  Isospan 1 GaBi Holzbetonmantelsteine mit Holzf...   \n",
       "25662                                    BauderTHERMOFOL   \n",
       "25663      Betonpflaster- Standardstein grau mit Vorsatz   \n",
       "25664                                   BauderTHERMOPLAN   \n",
       "\n",
       "                                       Name (en)  \\\n",
       "0                       Claytec Mineral 20 dried   \n",
       "1      FASBA e.V. Baustroh 100 kg/m³ GaBi - 2024   \n",
       "2      FASBA e.V. Baustroh 100 kg/m³ GaBi - 2024   \n",
       "3      FASBA e.V. Baustroh 100 kg/m³ GaBi - 2024   \n",
       "4                       Claytec Mineral 20 dried   \n",
       "...                                          ...   \n",
       "25660                                        NaN   \n",
       "25661                                        NaN   \n",
       "25662                      BauderTHERMOFOL U / M   \n",
       "25663                                        NaN   \n",
       "25664                           BauderTHERMOPLAN   \n",
       "\n",
       "                                    Kategorie (original)  \\\n",
       "0      'Mineralische Baustoffe' / 'Mörtel und Beton' ...   \n",
       "1                 'Dämmstoffe' / 'Stroh' / 'Strohballen'   \n",
       "2                 'Dämmstoffe' / 'Stroh' / 'Strohballen'   \n",
       "3                 'Dämmstoffe' / 'Stroh' / 'Strohballen'   \n",
       "4      'Mineralische Baustoffe' / 'Mörtel und Beton' ...   \n",
       "...                                                  ...   \n",
       "25660  'Mineralische Baustoffe' / 'Steine und Element...   \n",
       "25661  'Mineralische Baustoffe' / 'Steine und Element...   \n",
       "25662    'Kunststoffe' / 'Dachbahnen' / 'PVC-Dachbahnen'   \n",
       "25663  'Mineralische Baustoffe' / 'Steine und Element...   \n",
       "25664  'Kunststoffe' / 'Dachbahnen' / 'Elastomer-Dach...   \n",
       "\n",
       "                                          Kategorie (en)  \\\n",
       "0      'Mineral building products' / 'Mortar and Conc...   \n",
       "1        'Insulation materials' / 'Straw' / 'Straw bale'   \n",
       "2        'Insulation materials' / 'Straw' / 'Straw bale'   \n",
       "3        'Insulation materials' / 'Straw' / 'Straw bale'   \n",
       "4      'Mineral building products' / 'Mortar and Conc...   \n",
       "...                                                  ...   \n",
       "25660  'Mineral building products' / 'Bricks, blocks ...   \n",
       "25661  'Mineral building products' / 'Bricks, blocks ...   \n",
       "25662     'Plastics' / 'Roofing membranes' / 'PVC sheet'   \n",
       "25663  'Mineral building products' / 'Bricks, blocks ...   \n",
       "25664  'Plastics' / 'Roofing membranes' / 'Elastomer ...   \n",
       "\n",
       "                                             Konformität Laenderkennung  \\\n",
       "0      'EN 15804+A2 (EF 3.0)' / 'PCR Ökobilanzierung ...             DE   \n",
       "1                   'EN 15804+A2 (EF 3.1)' / 'ISO 14025'             DE   \n",
       "2                   'EN 15804+A2 (EF 3.1)' / 'ISO 14025'             DE   \n",
       "3                   'EN 15804+A2 (EF 3.1)' / 'ISO 14025'             DE   \n",
       "4      'EN 15804+A2 (EF 3.0)' / 'PCR Ökobilanzierung ...             DE   \n",
       "...                                                  ...            ...   \n",
       "25660                           'EN 15804' / 'ISO 14025'             AT   \n",
       "25661                           'EN 15804' / 'ISO 14025'             AT   \n",
       "25662                       'DIN EN 15804' / 'ISO 14025'             DE   \n",
       "25663                       'DIN EN 15804' / 'ISO 14025'             DE   \n",
       "25664                       'DIN EN 15804' / 'ISO 14025'             DE   \n",
       "\n",
       "                    Typ  Referenzjahr  ...    HTPnc (A2)  IRP (A2)   SOP (A2)  \\\n",
       "0      specific dataset          2022  ...           NaN       NaN        NaN   \n",
       "1      specific dataset          2024  ... -1.931275e-07 -0.164974 -11.855288   \n",
       "2      specific dataset          2024  ...  0.000000e+00  0.000000   0.000000   \n",
       "3      specific dataset          2024  ...  2.743039e-08  0.238850  16.740538   \n",
       "4      specific dataset          2022  ...           NaN       NaN        NaN   \n",
       "...                 ...           ...  ...           ...       ...        ...   \n",
       "25660  specific dataset          2017  ...           NaN       NaN        NaN   \n",
       "25661  specific dataset          2017  ...           NaN       NaN        NaN   \n",
       "25662   average dataset          2016  ...           NaN       NaN        NaN   \n",
       "25663   average dataset          2015  ...           NaN       NaN        NaN   \n",
       "25664   average dataset          2016  ...           NaN       NaN        NaN   \n",
       "\n",
       "           ODP (A2)     POCP (A2)   ADPF (A2)     ADPE (A2)  WDP (A2)  \\\n",
       "0     -2.549346e-06 -2.049393e-05   -0.462753 -4.342871e-07 -0.000162   \n",
       "1     -3.539990e-11 -1.033700e-02 -441.423176 -8.462049e-07 -0.055600   \n",
       "2      0.000000e+00  0.000000e+00    0.000000  0.000000e+00  0.000000   \n",
       "3      5.242030e-11  2.433899e-02   24.347930  3.594269e-07  0.219631   \n",
       "4      8.308000e-05  3.862000e-11    0.199900  6.946000e-07  0.001645   \n",
       "...             ...           ...         ...           ...       ...   \n",
       "25660           NaN           NaN         NaN           NaN       NaN   \n",
       "25661           NaN           NaN         NaN           NaN       NaN   \n",
       "25662           NaN           NaN         NaN           NaN       NaN   \n",
       "25663           NaN           NaN         NaN           NaN       NaN   \n",
       "25664           NaN           NaN         NaN           NaN       NaN   \n",
       "\n",
       "      source_year impact_standard  \n",
       "0            2024              A2  \n",
       "1            2024              A2  \n",
       "2            2024              A2  \n",
       "3            2024              A2  \n",
       "4            2024              A2  \n",
       "...           ...             ...  \n",
       "25660        2020              A1  \n",
       "25661        2020              A1  \n",
       "25662        2020              A1  \n",
       "25663        2020              A1  \n",
       "25664        2020              A1  \n",
       "\n",
       "[25665 rows x 76 columns]"
      ]
     },
     "execution_count": 34,
     "metadata": {},
     "output_type": "execute_result"
    }
   ],
   "source": [
    "# Filter the DataFrame for object columns\n",
    "non_numeric = cleaned_df.select_dtypes(\"object\")\n",
    "\n",
    "# Loop through columns\n",
    "for x in non_numeric.columns:\n",
    "    # Print the number of unique values\n",
    "    print(f\"Number of unique values in {x} column: \", non_numeric[x].nunique())\n",
    "\n",
    "cleaned_df"
   ]
  },
  {
   "cell_type": "markdown",
   "metadata": {},
   "source": [
    "## Data Validation"
   ]
  },
  {
   "cell_type": "markdown",
   "metadata": {},
   "source": [
    "# EDA"
   ]
  },
  {
   "cell_type": "markdown",
   "metadata": {},
   "source": [
    "# Machine Learning"
   ]
  }
 ],
 "metadata": {
  "kernelspec": {
   "display_name": "codeacademy",
   "language": "python",
   "name": "python3"
  },
  "language_info": {
   "codemirror_mode": {
    "name": "ipython",
    "version": 3
   },
   "file_extension": ".py",
   "mimetype": "text/x-python",
   "name": "python",
   "nbconvert_exporter": "python",
   "pygments_lexer": "ipython3",
   "version": "3.12.7"
  }
 },
 "nbformat": 4,
 "nbformat_minor": 2
}
